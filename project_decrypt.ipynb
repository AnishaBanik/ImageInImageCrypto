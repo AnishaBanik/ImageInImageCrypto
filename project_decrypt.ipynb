{
 "cells": [
  {
   "cell_type": "code",
   "execution_count": 5,
   "id": "c4dc65fb",
   "metadata": {},
   "outputs": [
    {
     "name": "stdout",
     "output_type": "stream",
     "text": [
      "100010100000100011011110101\n",
      "completed decrypt\n"
     ]
    }
   ],
   "source": [
    "from PIL import Image\n",
    "import numpy as np\n",
    "import copy\n",
    "\n",
    "im = Image.open(\"./\"+\"dummy111.png\")\n",
    "np_array_not = np.asarray(im)\n",
    "np_array = copy.deepcopy(np_array_not)\n",
    "\n",
    "R=[]\n",
    "G=[]\n",
    "B=[]\n",
    "    \n",
    "#converting first 9 into binary\n",
    "for i in range(9):\n",
    "    R.append(format(np_array[0][i][0],'08b'))\n",
    "    G.append(format(np_array[0][i][1],'08b'))\n",
    "    B.append(format(np_array[0][i][2],'08b'))\n",
    "\n",
    "secret=\"\"\n",
    "# extracting secret from RGB arrays\n",
    "LSB = [[0 for x in range(9)] for y in range(3)] \n",
    "for i in range(9):\n",
    "    secret=secret+R[i][7]\n",
    "for i in range(9):\n",
    "    secret=secret+G[i][7]\n",
    "for i in range(9):\n",
    "    secret=secret+B[i][7]\n",
    "\n",
    "print(secret)\n",
    "print(\"completed decrypt\")"
   ]
  },
  {
   "cell_type": "code",
   "execution_count": null,
   "id": "02ce141a",
   "metadata": {},
   "outputs": [],
   "source": []
  }
 ],
 "metadata": {
  "kernelspec": {
   "display_name": "Python 3 (ipykernel)",
   "language": "python",
   "name": "python3"
  },
  "language_info": {
   "codemirror_mode": {
    "name": "ipython",
    "version": 3
   },
   "file_extension": ".py",
   "mimetype": "text/x-python",
   "name": "python",
   "nbconvert_exporter": "python",
   "pygments_lexer": "ipython3",
   "version": "3.10.4"
  }
 },
 "nbformat": 4,
 "nbformat_minor": 5
}
