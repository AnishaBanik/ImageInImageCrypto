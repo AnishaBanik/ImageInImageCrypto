{
 "cells": [
  {
   "cell_type": "code",
   "execution_count": 2,
   "id": "96f2deee-8ed1-4c2f-b65f-bf33e8d6e559",
   "metadata": {},
   "outputs": [],
   "source": [
    "img = open(\"lena.ascii.pgm\",\"r\")"
   ]
  },
  {
   "cell_type": "code",
   "execution_count": 6,
   "id": "9d612f15-31c7-48a4-b1f7-c46c7261bfaf",
   "metadata": {},
   "outputs": [
    {
     "ename": "NameError",
     "evalue": "name 'img' is not defined",
     "output_type": "error",
     "traceback": [
      "\u001b[1;31m---------------------------------------------------------------------------\u001b[0m",
      "\u001b[1;31mNameError\u001b[0m                                 Traceback (most recent call last)",
      "Input \u001b[1;32mIn [6]\u001b[0m, in \u001b[0;36m<cell line: 1>\u001b[1;34m()\u001b[0m\n\u001b[1;32m----> 1\u001b[0m imgType \u001b[38;5;241m=\u001b[39m \u001b[43mimg\u001b[49m\u001b[38;5;241m.\u001b[39mreadline()\n\u001b[0;32m      2\u001b[0m comment \u001b[38;5;241m=\u001b[39m img\u001b[38;5;241m.\u001b[39mreadline()\n\u001b[0;32m      3\u001b[0m dimention \u001b[38;5;241m=\u001b[39m img\u001b[38;5;241m.\u001b[39mreadline()\n",
      "\u001b[1;31mNameError\u001b[0m: name 'img' is not defined"
     ]
    }
   ],
   "source": [
    "imgType = img.readline()\n",
    "comment = img.readline()\n",
    "dimention = img.readline()\n",
    "max_value = img.readline()"
   ]
  },
  {
   "cell_type": "code",
   "execution_count": 1,
   "id": "6ffe1203-03c0-4e59-a527-4a24ac186c55",
   "metadata": {},
   "outputs": [
    {
     "ename": "NameError",
     "evalue": "name 'comment' is not defined",
     "output_type": "error",
     "traceback": [
      "\u001b[1;31m---------------------------------------------------------------------------\u001b[0m",
      "\u001b[1;31mNameError\u001b[0m                                 Traceback (most recent call last)",
      "Input \u001b[1;32mIn [1]\u001b[0m, in \u001b[0;36m<cell line: 1>\u001b[1;34m()\u001b[0m\n\u001b[1;32m----> 1\u001b[0m \u001b[43mcomment\u001b[49m\n",
      "\u001b[1;31mNameError\u001b[0m: name 'comment' is not defined"
     ]
    }
   ],
   "source": [
    "comment"
   ]
  },
  {
   "cell_type": "code",
   "execution_count": 7,
   "id": "5f6a04b6-a0cd-4e45-9866-a142386731af",
   "metadata": {},
   "outputs": [],
   "source": [
    "first_line = img.readline()"
   ]
  },
  {
   "cell_type": "code",
   "execution_count": 8,
   "id": "e64c1d95-28ad-4f45-a1fd-b00f6a8bc114",
   "metadata": {},
   "outputs": [
    {
     "data": {
      "text/plain": [
       "'155  162  159  154  157  155  161  160  153  156  154  157 \\n'"
      ]
     },
     "execution_count": 8,
     "metadata": {},
     "output_type": "execute_result"
    }
   ],
   "source": [
    "first_line"
   ]
  },
  {
   "cell_type": "code",
   "execution_count": 9,
   "id": "34e9ddc7-2eed-45b5-a6a0-5184235f3ab7",
   "metadata": {},
   "outputs": [],
   "source": [
    "im = [\n",
    "    [\"1\",\"2\",\"3\"],\n",
    "    [\"1\",\"2\",\"3\"],\n",
    "    [\"1\",\"2\",\"3\"],\n",
    "]\n",
    "\n",
    "sec = \"101110110\"\n",
    "\n",
    "imb = [\n",
    "    [\"00000001\",\"00000010\",\"00000011\"],\n",
    "    [\"00000001\",\"00000010\",\"00000011\"],\n",
    "    [\"00000001\",\"00000010\",\"00000011\"],\n",
    "]"
   ]
  },
  {
   "cell_type": "code",
   "execution_count": 10,
   "id": "6cd8a773-405b-4a90-b7c0-90449640a942",
   "metadata": {},
   "outputs": [
    {
     "data": {
      "text/plain": [
       "'155  162  159  154  157  155  161  160  153  156  154  157'"
      ]
     },
     "execution_count": 10,
     "metadata": {},
     "output_type": "execute_result"
    }
   ],
   "source": [
    "'155  162  159  154  157  155  161  160  153  156  154  157'"
   ]
  },
  {
   "cell_type": "code",
   "execution_count": null,
   "id": "c69426cf-6234-4bc7-83aa-5756d57877c2",
   "metadata": {},
   "outputs": [],
   "source": [
    "'130  162  159  154  157  155  161  160  153  156  154  157'"
   ]
  }
 ],
 "metadata": {
  "kernelspec": {
   "display_name": "Python 3 (ipykernel)",
   "language": "python",
   "name": "python3"
  },
  "language_info": {
   "codemirror_mode": {
    "name": "ipython",
    "version": 3
   },
   "file_extension": ".py",
   "mimetype": "text/x-python",
   "name": "python",
   "nbconvert_exporter": "python",
   "pygments_lexer": "ipython3",
   "version": "3.10.4"
  }
 },
 "nbformat": 4,
 "nbformat_minor": 5
}
