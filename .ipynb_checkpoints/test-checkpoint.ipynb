{
 "cells": [
  {
   "cell_type": "code",
   "execution_count": 5,
   "id": "33217d45-880b-42c1-bcd6-338d6b7f82af",
   "metadata": {},
   "outputs": [],
   "source": [
    "img = open(\"pepper.ascii.pgm\",\"r\")"
   ]
  },
  {
   "cell_type": "code",
   "execution_count": 39,
   "id": "867037ce-ae0b-4402-ba1a-7d4c64ab0c89",
   "metadata": {},
   "outputs": [
    {
     "name": "stdout",
     "output_type": "stream",
     "text": [
      "done\n"
     ]
    }
   ],
   "source": [
    "img = open(\"pepper.ascii.pgm\",\"r\")\n",
    "with open('pepper.ascii.pgm') as fp:\n",
    "    lines = fp.readlines()\n",
    "lng=len(lines)\n",
    "i=4\n",
    "ans=[]\n",
    "pixans=[]\n",
    "while(i<lng):\n",
    "    pixels=lines[i].split()[:8]\n",
    "    pixans.append(pixels)\n",
    "    ans.append(lines[i])\n",
    "    if(len(ans)==8):\n",
    "        break\n",
    "    i+=22\n",
    "#print(pixans)\n",
    "secret=\"00001111\"\n",
    "k=0\n",
    "for i in range(len(pixans)):\n",
    "    line=pixans[i]\n",
    "    for j in range(len(line)):\n",
    "        pix=line[j]\n",
    "        #print(pix)\n",
    "        pi=int(pix)\n",
    "        bnr = bin(pi).replace('0b','')\n",
    "        x = bnr[::-1] #this reverses an array\n",
    "        while len(x) < 8:\n",
    "            x += '0'\n",
    "        bnr = x[::-1]\n",
    "        if(j==3):\n",
    "            #print(bnr)\n",
    "            bnr=bnr[:-1] + secret[k]\n",
    "            k+=1\n",
    "            #print(bnr)\n",
    "        line[j]=str(bnr)\n",
    "    pixans[i]=line\n",
    "newline=\"\"\n",
    "newlineArr=[]\n",
    "for i in range(len(pixans)):\n",
    "    line=pixans[i]\n",
    "    for j in range(len(line)):\n",
    "        binary=line[j]\n",
    "        #print(binary)\n",
    "        decimal = 0\n",
    "        for digit in binary:\n",
    "            decimal = decimal*2 + int(digit)\n",
    "        #print(decimal)\n",
    "        line[j]=str(decimal)\n",
    "        newline+=str(decimal)+\" \"\n",
    "    pixans[i]=line\n",
    "    newlineArr.append(newline)\n",
    "    newline=\"\"\n",
    "#print(pixans)\n",
    "#print(newlineArr)\n",
    "with open('pepper.ascii.pgm') as fp:\n",
    "    lines = fp.readlines()\n",
    "    #print(lines)\n",
    "lng=len(lines)\n",
    "i=4\n",
    "p=0\n",
    "count1=0\n",
    "while(i<lng):\n",
    "    if(count1>=8):\n",
    "        break\n",
    "    pixels=lines[i].split()[:8]\n",
    "    count=0\n",
    "    eachlen=0\n",
    "    for pixs in pixels:\n",
    "        count+=1\n",
    "        eachlen+=len(pixs)\n",
    "    eachlen+=count\n",
    "    #print(p)\n",
    "    newpixLine=newlineArr[p]+lines[i][eachlen:]\n",
    "    lines[i]=newpixLine\n",
    "    p+=1\n",
    "    count1+=1\n",
    "    i+=22\n",
    "#print(lines)\n",
    "file1 = open(\"pepper.ascii.pgm\", \"w\")\n",
    "file1.writelines(lines)\n",
    "# Closing file\n",
    "file1.close()\n",
    "print(\"done\")"
   ]
  },
  {
   "cell_type": "raw",
   "id": "b7e658c4-a8ab-42f9-8959-9b63077d3adf",
   "metadata": {},
   "source": [
    "answer"
   ]
  },
  {
   "cell_type": "code",
   "execution_count": null,
   "id": "3f7ebc34-ddb3-44e0-8f2e-c7e5532afb07",
   "metadata": {},
   "outputs": [],
   "source": []
  },
  {
   "cell_type": "code",
   "execution_count": null,
   "id": "7000cf2f-8dcc-45e7-93ec-d86362ad168d",
   "metadata": {},
   "outputs": [],
   "source": []
  },
  {
   "cell_type": "code",
   "execution_count": null,
   "id": "3869f971-f0e8-43fd-af2f-6e666001957a",
   "metadata": {},
   "outputs": [],
   "source": []
  },
  {
   "cell_type": "code",
   "execution_count": null,
   "id": "6100c52c-8c16-4e4a-b44b-33ee710cd5f9",
   "metadata": {},
   "outputs": [],
   "source": []
  }
 ],
 "metadata": {
  "kernelspec": {
   "display_name": "Python 3 (ipykernel)",
   "language": "python",
   "name": "python3"
  },
  "language_info": {
   "codemirror_mode": {
    "name": "ipython",
    "version": 3
   },
   "file_extension": ".py",
   "mimetype": "text/x-python",
   "name": "python",
   "nbconvert_exporter": "python",
   "pygments_lexer": "ipython3",
   "version": "3.10.4"
  }
 },
 "nbformat": 4,
 "nbformat_minor": 5
}
