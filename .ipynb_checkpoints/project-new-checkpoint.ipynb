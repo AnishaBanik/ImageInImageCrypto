{
 "cells": [
  {
   "cell_type": "code",
   "execution_count": 1,
   "id": "ab5d7474",
   "metadata": {},
   "outputs": [
    {
     "name": "stdout",
     "output_type": "stream",
     "text": [
      "complete\n"
     ]
    }
   ],
   "source": [
    "from PIL import Image\n",
    "import numpy as np\n",
    "import copy\n",
    "\n",
    "im = Image.open(\"./\"+\"images.png\")\n",
    "np_array_not = np.asarray(im)\n",
    "np_array = copy.deepcopy(np_array_not)\n",
    "\n",
    "R=[]\n",
    "G=[]\n",
    "B=[]\n",
    "    \n",
    "#converting first 9 into binary\n",
    "for i in range(9):\n",
    "    R.append(format(np_array[0][i][0],'08b'))\n",
    "    G.append(format(np_array[0][i][1],'08b'))\n",
    "    B.append(format(np_array[0][i][2],'08b'))\n",
    "\n",
    "secret=\"100010100000100011011110101\"\n",
    "\n",
    "# creating LSB matrix 3*9\n",
    "LSB = [[0 for x in range(9)] for y in range(3)] \n",
    "for i in range(9):\n",
    "    LSB[0][i]=R[i][7]\n",
    "for i in range(9):\n",
    "    LSB[1][i]=G[i][7]\n",
    "for i in range(9):\n",
    "    LSB[2][i]=B[i][7]\n",
    "\n",
    "#embedding secret inside LSB\n",
    "\n",
    "k=0\n",
    "for x in range(0,3):\n",
    "    for y in range(0,9):\n",
    "        LSB[x][y]=secret[k]\n",
    "        k+=1\n",
    "\n",
    "#putting embedded LSBs into RGB arrays on first 9 index\n",
    "i=0\n",
    "for x in range(0,9):\n",
    "    R[x]=R[x][0:7]+LSB[0][i]\n",
    "    G[x]=G[x][0:7]+LSB[1][i]\n",
    "    B[x]=R[x][0:7]+LSB[2][i]\n",
    "    i+=1\n",
    "\n",
    "#converting arrays from binary to decimal\n",
    "for x in range(0,9):\n",
    "    R[x]=int(R[x],2)\n",
    "    G[x]=int(G[x],2)\n",
    "    B[x]=int(B[x],2)\n",
    "\n",
    "#creating final np_frame\n",
    "for i in range(9):\n",
    "    np_array[0][i][0]=R[i]\n",
    "    np_array[0][i][1]=G[i]\n",
    "    np_array[0][i][2]=B[i]\n",
    "    \n",
    "# print(np_array)\n",
    "im = Image.fromarray(np_array)\n",
    "im.save('dummy111.png')\n",
    "print(\"complete\")"
   ]
  },
  {
   "cell_type": "code",
   "execution_count": null,
   "id": "0f674f2d",
   "metadata": {},
   "outputs": [],
   "source": []
  }
 ],
 "metadata": {
  "kernelspec": {
   "display_name": "Python 3 (ipykernel)",
   "language": "python",
   "name": "python3"
  },
  "language_info": {
   "codemirror_mode": {
    "name": "ipython",
    "version": 3
   },
   "file_extension": ".py",
   "mimetype": "text/x-python",
   "name": "python",
   "nbconvert_exporter": "python",
   "pygments_lexer": "ipython3",
   "version": "3.10.4"
  }
 },
 "nbformat": 4,
 "nbformat_minor": 5
}
